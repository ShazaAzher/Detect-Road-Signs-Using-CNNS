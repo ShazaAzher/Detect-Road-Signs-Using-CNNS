{
  "nbformat": 4,
  "nbformat_minor": 0,
  "metadata": {
    "colab": {
      "provenance": []
    },
    "kernelspec": {
      "name": "python3",
      "display_name": "Python 3"
    },
    "language_info": {
      "name": "python"
    }
  },
  "cells": [
    {
      "cell_type": "code",
      "execution_count": null,
      "metadata": {
        "colab": {
          "base_uri": "https://localhost:8080/"
        },
        "id": "HA18147CGmH_",
        "outputId": "a13d15df-81c9-4e01-8d3c-46f6b0e39346"
      },
      "outputs": [
        {
          "output_type": "stream",
          "name": "stdout",
          "text": [
            "left:  0\n",
            "Counter({'foo': 1, 'bar': 1})\n",
            "right:  0\n",
            "ss:  bar\n",
            "right:  3\n",
            "ss:  foo\n",
            "right:  6\n",
            "ss:  the\n",
            "s[left:left+width]:  bar\n",
            "count[s[left:left+width]]:  1\n",
            "left += width:  3\n",
            "s[left:left+width]:  foo\n",
            "count[s[left:left+width]]:  1\n",
            "left += width:  6\n",
            "s[left:left+width]:  the\n",
            "count[s[left:left+width]]:  1\n",
            "left += width:  9\n",
            "right:  9\n",
            "ss:  foo\n",
            "right:  12\n",
            "ss:  bar\n",
            "right:  15\n",
            "ss:  man\n",
            "s[left:left+width]:  foo\n",
            "count[s[left:left+width]]:  1\n",
            "left += width:  12\n",
            "s[left:left+width]:  bar\n",
            "count[s[left:left+width]]:  1\n",
            "left += width:  15\n",
            "s[left:left+width]:  man\n",
            "count[s[left:left+width]]:  1\n",
            "left += width:  18\n",
            "left:  1\n",
            "Counter({'foo': 1, 'bar': 1})\n",
            "right:  1\n",
            "ss:  arf\n",
            "s[left:left+width]:  arf\n",
            "count[s[left:left+width]]:  1\n",
            "left += width:  4\n",
            "right:  4\n",
            "ss:  oot\n",
            "s[left:left+width]:  oot\n",
            "count[s[left:left+width]]:  1\n",
            "left += width:  7\n",
            "right:  7\n",
            "ss:  hef\n",
            "s[left:left+width]:  hef\n",
            "count[s[left:left+width]]:  1\n",
            "left += width:  10\n",
            "right:  10\n",
            "ss:  oob\n",
            "s[left:left+width]:  oob\n",
            "count[s[left:left+width]]:  1\n",
            "left += width:  13\n",
            "right:  13\n",
            "ss:  arm\n",
            "s[left:left+width]:  arm\n",
            "count[s[left:left+width]]:  1\n",
            "left += width:  16\n",
            "right:  16\n",
            "ss:  an\n",
            "s[left:left+width]:  an\n",
            "count[s[left:left+width]]:  1\n",
            "left += width:  19\n",
            "left:  2\n",
            "Counter({'foo': 1, 'bar': 1})\n",
            "right:  2\n",
            "ss:  rfo\n",
            "s[left:left+width]:  rfo\n",
            "count[s[left:left+width]]:  1\n",
            "left += width:  5\n",
            "right:  5\n",
            "ss:  oth\n",
            "s[left:left+width]:  oth\n",
            "count[s[left:left+width]]:  1\n",
            "left += width:  8\n",
            "right:  8\n",
            "ss:  efo\n",
            "s[left:left+width]:  efo\n",
            "count[s[left:left+width]]:  1\n",
            "left += width:  11\n",
            "right:  11\n",
            "ss:  oba\n",
            "s[left:left+width]:  oba\n",
            "count[s[left:left+width]]:  1\n",
            "left += width:  14\n",
            "right:  14\n",
            "ss:  rma\n",
            "s[left:left+width]:  rma\n",
            "count[s[left:left+width]]:  1\n",
            "left += width:  17\n",
            "right:  17\n",
            "ss:  n\n",
            "s[left:left+width]:  n\n",
            "count[s[left:left+width]]:  1\n",
            "left += width:  20\n"
          ]
        },
        {
          "output_type": "execute_result",
          "data": {
            "text/plain": [
              "[0, 9]"
            ]
          },
          "metadata": {},
          "execution_count": 13
        }
      ],
      "source": [
        "import numpy as np\n",
        "import matplotlib.pyplot as plt\n",
        "import tensorflow as tf\n",
        "from tensorflow.keras import models, layers"
      ]
    },
    {
      "cell_type": "code",
      "source": [
        "dataset = tf.keras.preprocessing.image_dataset_from_directory(\n",
        "    directory = \"/usercode/Roadsign_dataset\",\n",
        "    seed = 41,\n",
        "    shuffle = True,\n",
        "    image_size = (256,256),\n",
        "    batch_size = 32\n",
        ")"
      ],
      "metadata": {
        "colab": {
          "base_uri": "https://localhost:8080/",
          "height": 35
        },
        "id": "QQ-pVqMsG2ub",
        "outputId": "d463278c-1d5a-4f1d-a13f-d2eff2df7839"
      },
      "execution_count": null,
      "outputs": [
        {
          "output_type": "execute_result",
          "data": {
            "text/plain": [
              "'apbqcr'"
            ],
            "application/vnd.google.colaboratory.intrinsic+json": {
              "type": "string"
            }
          },
          "metadata": {},
          "execution_count": 15
        }
      ]
    },
    {
      "cell_type": "code",
      "source": [
        "class_names = dataset.class_names\n",
        "num_of_classes = len(class_names)\n",
        "print(\"Class names: \", class_names)\n",
        "print(\"Number of classes: \", num_of_classes)"
      ],
      "metadata": {
        "id": "0Ng5hhDmREsb"
      },
      "execution_count": null,
      "outputs": []
    },
    {
      "cell_type": "code",
      "source": [
        "plt.figure(figsize=(12, 12))\n",
        "for image_batch, labels_batch in dataset.take(1):\n",
        "    for i in range(12):\n",
        "        ax = plt.subplot(3, 4, i + 1)\n",
        "        plt.imshow(image_batch[i].numpy().astype(\"uint8\"))\n",
        "        plt.title(class_names[labels_batch[i]])\n",
        "        plt.axis(\"off\")"
      ],
      "metadata": {
        "id": "La2KhPRgqLak"
      },
      "execution_count": null,
      "outputs": []
    },
    {
      "cell_type": "code",
      "source": [
        "def tf_split_data(ds, train_split=0.8, val_split=0.1, test_split=0.1, shuffle=True, shuffle_size=1000):\n",
        "    assert (train_split + test_split + val_split) == 1\n",
        "\n",
        "    ds_size = len(ds)\n",
        "\n",
        "    if shuffle:\n",
        "        ds = ds.shuffle(shuffle_size, seed=10)\n",
        "\n",
        "    train_size = int(train_split * ds_size)\n",
        "    val_size = int(val_split * ds_size)\n",
        "\n",
        "    train_set = ds.take(train_size)\n",
        "    val_set = ds.skip(train_size).take(val_size)\n",
        "    test_set = ds.skip(train_size).skip(val_size)\n",
        "\n",
        "    return train_set, val_set, test_set\n",
        "\n",
        "train_ds, val_ds, test_ds = tf_split_data(dataset)"
      ],
      "metadata": {
        "id": "lRZrmJdHqNiR"
      },
      "execution_count": null,
      "outputs": []
    },
    {
      "cell_type": "code",
      "source": [
        "BATCH_SIZE = 32\n",
        "IMAGE_SIZE = 256\n",
        "CHANNELS = 3\n",
        "EPOCHS = 3"
      ],
      "metadata": {
        "id": "bp5-QOGEqP0X"
      },
      "execution_count": null,
      "outputs": []
    },
    {
      "cell_type": "code",
      "source": [
        "train_ds = train_ds.cache().shuffle(1000).prefetch(buffer_size=tf.data.AUTOTUNE)\n",
        "val_ds = val_ds.cache().shuffle(1000).prefetch(buffer_size=tf.data.AUTOTUNE)\n",
        "test_ds = test_ds.cache().shuffle(1000).prefetch(buffer_size=tf.data.AUTOTUNE)"
      ],
      "metadata": {
        "id": "QyAmaiCwqSA1"
      },
      "execution_count": null,
      "outputs": []
    },
    {
      "cell_type": "code",
      "source": [
        "resize_and_rescale = tf.keras.Sequential([\n",
        "  layers.experimental.preprocessing.Resizing(IMAGE_SIZE, IMAGE_SIZE),\n",
        "  layers.experimental.preprocessing.Rescaling(1./255),\n",
        "])"
      ],
      "metadata": {
        "id": "2aVjtIxXqUCe"
      },
      "execution_count": null,
      "outputs": []
    },
    {
      "cell_type": "code",
      "source": [
        "data_aug = tf.keras.Sequential([\n",
        "    layers.experimental.preprocessing.RandomFlip(\"horizontal_and_vertical\"),\n",
        "    layers.experimental.preprocessing.RandomRotation(0.2),\n",
        "])"
      ],
      "metadata": {
        "id": "u0MY8f53qWb1"
      },
      "execution_count": null,
      "outputs": []
    },
    {
      "cell_type": "code",
      "source": [
        "train_ds = train_ds.map(\n",
        "    lambda x, y: (data_aug(x, training=True), y)\n",
        ").prefetch(buffer_size=tf.data.AUTOTUNE)"
      ],
      "metadata": {
        "id": "NMj80aK6qYjb"
      },
      "execution_count": null,
      "outputs": []
    },
    {
      "cell_type": "code",
      "source": [
        "input_shape = (BATCH_SIZE, IMAGE_SIZE, IMAGE_SIZE, CHANNELS)\n",
        "n_classes = 7"
      ],
      "metadata": {
        "id": "x0-OE9BzqaoP"
      },
      "execution_count": null,
      "outputs": []
    },
    {
      "cell_type": "code",
      "source": [
        "model = models.Sequential([\n",
        "    resize_and_rescale,\n",
        "    layers.Conv2D(32, kernel_size = (3,3), activation='relu', input_shape=input_shape),\n",
        "    layers.MaxPooling2D((2, 2)),\n",
        "    layers.Conv2D(64,  kernel_size = (3,3), activation='relu'),\n",
        "    layers.MaxPooling2D((2, 2)),\n",
        "    layers.Conv2D(64,  kernel_size = (3,3), activation='relu'),\n",
        "    layers.MaxPooling2D((2, 2)),\n",
        "    layers.Conv2D(64, (3, 3), activation='relu'),\n",
        "    layers.MaxPooling2D((2, 2)),\n",
        "    layers.Conv2D(64, (3, 3), activation='relu'),\n",
        "    layers.MaxPooling2D((2, 2)),\n",
        "    layers.Conv2D(64, (3, 3), activation='relu'),\n",
        "    layers.MaxPooling2D((2, 2)),\n",
        "    layers.Flatten(),\n",
        "    layers.Dense(64, activation='relu'),\n",
        "    layers.Dense(n_classes, activation='softmax'),\n",
        "])\n",
        "model.build(input_shape=input_shape)"
      ],
      "metadata": {
        "id": "t559974RqcZH"
      },
      "execution_count": null,
      "outputs": []
    },
    {
      "cell_type": "code",
      "source": [
        "model.compile(\n",
        "    optimizer='adam',\n",
        "    loss=tf.keras.losses.SparseCategoricalCrossentropy(from_logits=False),\n",
        "    metrics=['accuracy']\n",
        ")"
      ],
      "metadata": {
        "id": "ReruRlBKqekW"
      },
      "execution_count": null,
      "outputs": []
    },
    {
      "cell_type": "code",
      "source": [
        "model.fit(train_ds, verbose=1, epochs=EPOCHS, validation_data=val_ds, batch_size=BATCH_SIZE)"
      ],
      "metadata": {
        "id": "naTVFzXSqgcx"
      },
      "execution_count": null,
      "outputs": []
    },
    {
      "cell_type": "code",
      "source": [
        "scores = model.evaluate(test_ds)"
      ],
      "metadata": {
        "id": "5rp36dbCqicy"
      },
      "execution_count": null,
      "outputs": []
    },
    {
      "cell_type": "code",
      "source": [
        "acc = history.history['accuracy']\n",
        "val_acc = history.history['val_accuracy']\n",
        "\n",
        "loss = history.history['loss']\n",
        "val_loss = history.history['val_loss']"
      ],
      "metadata": {
        "id": "ClwJhCL6qlSg"
      },
      "execution_count": null,
      "outputs": []
    },
    {
      "cell_type": "code",
      "source": [
        "plt.figure(figsize=(8, 8))\n",
        "plt.subplot(1, 2, 1)\n",
        "plt.plot(range(EPOCHS), acc, label='Training Accuracy')\n",
        "plt.plot(range(EPOCHS), val_acc, label='Validation Accuracy')\n",
        "plt.legend(loc='lower right')\n",
        "plt.title('Training and Validation Accuracy')\n",
        "\n",
        "plt.subplot(1, 2, 2)\n",
        "plt.plot(range(EPOCHS), loss, label='Training Loss')\n",
        "plt.plot(range(EPOCHS), val_loss, label='Validation Loss')\n",
        "plt.legend(loc='upper right')\n",
        "plt.title('Training and Validation Loss')\n",
        "plt.show()"
      ],
      "metadata": {
        "id": "kKH1O8yFqnVe"
      },
      "execution_count": null,
      "outputs": []
    },
    {
      "cell_type": "code",
      "source": [
        "def predict(model, img):\n",
        "    img_array = tf.keras.preprocessing.image.img_to_array(images[i].numpy())\n",
        "    img_array = tf.expand_dims(img_array, 0)\n",
        "\n",
        "    predictions = model.predict(img_array)\n",
        "\n",
        "    predicted_class = class_names[np.argmax(predictions[0])]\n",
        "    confidence = round(100 * (np.max(predictions[0])), 2)\n",
        "    return predicted_class, confidence\n"
      ],
      "metadata": {
        "id": "40DjGCJFqp66"
      },
      "execution_count": null,
      "outputs": []
    },
    {
      "cell_type": "code",
      "source": [
        "import numpy as np\n",
        "for images_batch, labels_batch in test_ds.take(1):\n",
        "\n",
        "    first_image = images_batch[0].numpy().astype('uint8')\n",
        "    first_label = labels_batch[0].numpy()\n",
        "\n",
        "    print(\"first image to predict\")\n",
        "    plt.imshow(first_image)\n",
        "    print(\"actual label:\",class_names[first_label])\n",
        "\n",
        "    batch_prediction = model.predict(images_batch)\n",
        "    print(\"predicted label:\",class_names[np.argmax(batch_prediction[0])])"
      ],
      "metadata": {
        "id": "lLsasCx1qr-Y"
      },
      "execution_count": null,
      "outputs": []
    },
    {
      "cell_type": "code",
      "source": [
        "plt.figure(figsize=(15, 15))\n",
        "for images, labels in test_ds.take(1):\n",
        "    for i in range(9):\n",
        "        ax = plt.subplot(3, 3, i + 1)\n",
        "        plt.imshow(images[i].numpy().astype(\"uint8\"))\n",
        "\n",
        "        predicted_class, confidence = predict(model, images[i].numpy())\n",
        "        actual_class = class_names[labels[i]]\n",
        "\n",
        "        plt.title(f\"Actual: {actual_class},\\n Predicted: {predicted_class}.\\n Confidence: {confidence}%\")\n",
        "\n",
        "        plt.axis(\"off\")"
      ],
      "metadata": {
        "id": "5kD35zn0qt4U"
      },
      "execution_count": null,
      "outputs": []
    }
  ]
}